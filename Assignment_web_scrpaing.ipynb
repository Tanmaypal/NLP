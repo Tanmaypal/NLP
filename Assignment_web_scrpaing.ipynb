{
  "nbformat": 4,
  "nbformat_minor": 0,
  "metadata": {
    "kernelspec": {
      "display_name": "Python 3",
      "language": "python",
      "name": "python3"
    },
    "language_info": {
      "codemirror_mode": {
        "name": "ipython",
        "version": 3
      },
      "file_extension": ".py",
      "mimetype": "text/x-python",
      "name": "python",
      "nbconvert_exporter": "python",
      "pygments_lexer": "ipython3",
      "version": "3.7.5"
    },
    "colab": {
      "name": "Assignment_web scrpaing.ipynb",
      "provenance": [],
      "toc_visible": true
    }
  },
  "cells": [
    {
      "cell_type": "code",
      "metadata": {
        "id": "7cxeohKO8w-a",
        "colab_type": "code",
        "colab": {}
      },
      "source": [
        "from selenium.webdriver import Chrome\n",
        "import pandas as pd\n",
        "import numpy as np\n",
        "import os"
      ],
      "execution_count": 0,
      "outputs": []
    },
    {
      "cell_type": "markdown",
      "metadata": {
        "id": "siGFNszL9yYB",
        "colab_type": "text"
      },
      "source": [
        "# **WB SCRPAING AMAZON -PUMA SHOES PAGE**"
      ]
    },
    {
      "cell_type": "code",
      "metadata": {
        "scrolled": true,
        "id": "WRUeTddP8w-q",
        "colab_type": "code",
        "colab": {}
      },
      "source": [
        "driver=Chrome(\"C://chrome-driver//chromedriver.exe\")\n",
        "driver.get(\"https://www.amazon.in/puma-shoes/s?k=puma+shoe/product-reviews/B07WLL998K/ref=cm_cr_arp_d_paging_btm_next_2?ie=UTF8&reviewerType=all_reviews&pageNumber=1\")\n",
        "\n",
        "\n",
        "#max number of pages to crawl\n",
        "num_of_pg=4\n",
        "\n",
        "review_title =[]\n",
        "review_content=[]\n",
        "review_date=[]\n",
        "rating=[]\n",
        "cust_name=[]\n",
        "\n",
        "\n",
        "\n",
        "for i in range(1,num_of_pg+1):\n",
        "    \n",
        "    #customer name\n",
        "    \n",
        "    \n",
        "    name_web_list=driver.find_elements_by_xpath('//div[@class=\"a-section a-spacing-none reviews-content a-size-base\"]//div[1]//a//div[2]//span[@class=\"a-profile-name\"]')\n",
        "    for t in range(len(name_web_list)):\n",
        "        cust_name.append(name_web_list[t].text)\n",
        "    \n",
        "    \n",
        "    #review-title\n",
        "    review_title_web_lst=driver.find_elements_by_xpath('//a[@data-hook=\"review-title\"]')\n",
        "    for m in range(len(review_title_web_lst)):\n",
        "        review_title.append(review_title_web_lst[m].text)\n",
        "    \n",
        "    #review-comtent\n",
        "    review_bdy_web_lst=driver.find_elements_by_xpath('//span[@data-hook=\"review-body\"]')\n",
        "    \n",
        "    for n in range(len(review_bdy_web_lst)):\n",
        "        review_content.append(review_bdy_web_lst[n].text)\n",
        "     \n",
        "    #review_date\n",
        "    review_date_web_list=driver.find_elements_by_xpath('//span[@data-hook=\"review-date\"]')\n",
        "    \n",
        "    for o in range(len(review_date_web_list)):\n",
        "        review_date.append(review_date_web_list[o].text)\n",
        "    \n",
        "    #review ratings\n",
        "    rating_web_list=driver.find_elements_by_xpath('//i[@data-hook=\"review-star-rating\"]//span[@class=\"a-icon-alt\"]')\n",
        "    for p in range(len(rating_web_list)):\n",
        "        rating.append(rating_web_list[p].get_attribute('innerHTML'))\n",
        "    \n",
        "    nxt_pg_num=i+1\n",
        "    #print(nxt_pg_num)\n",
        "\n",
        "    driver.get(\"https://www.amazon.in/puma-shoes/s?k=puma+shoe/product-reviews/B07WLL998K/ref=cm_cr_arp_d_paging_btm_next_2?ie=UTF8&reviewerType=all_reviews&pageNumber=1\".format(str(nxt_pg_num)))\n",
        "\n",
        "\n",
        "\n"
      ],
      "execution_count": 0,
      "outputs": []
    },
    {
      "cell_type": "code",
      "metadata": {
        "id": "st0hanGq8w-z",
        "colab_type": "code",
        "colab": {}
      },
      "source": [
        "df_shoes=pd.DataFrame()"
      ],
      "execution_count": 0,
      "outputs": []
    },
    {
      "cell_type": "code",
      "metadata": {
        "id": "2PzEO_8W8w-2",
        "colab_type": "code",
        "colab": {}
      },
      "source": [
        "df[\"Customer Name\"]=cust_name\n",
        "df[\"Review_Date\"]=review_date\n",
        "df[\"Rating\"]=rating\n",
        "df[\"Review Title\"]=review_title\n",
        "df[\"Reviews\"]=review_content"
      ],
      "execution_count": 0,
      "outputs": []
    },
    {
      "cell_type": "code",
      "metadata": {
        "id": "Ugl3s1lF8w-5",
        "colab_type": "code",
        "colab": {},
        "outputId": "cd904700-1de5-48c1-9d26-3498ac01ee76"
      },
      "source": [
        "df.head(7)"
      ],
      "execution_count": 0,
      "outputs": [
        {
          "output_type": "execute_result",
          "data": {
            "text/html": [
              "<div>\n",
              "<style scoped>\n",
              "    .dataframe tbody tr th:only-of-type {\n",
              "        vertical-align: middle;\n",
              "    }\n",
              "\n",
              "    .dataframe tbody tr th {\n",
              "        vertical-align: top;\n",
              "    }\n",
              "\n",
              "    .dataframe thead th {\n",
              "        text-align: right;\n",
              "    }\n",
              "</style>\n",
              "<table border=\"1\" class=\"dataframe\">\n",
              "  <thead>\n",
              "    <tr style=\"text-align: right;\">\n",
              "      <th></th>\n",
              "      <th>Customer Name</th>\n",
              "      <th>Review_Date</th>\n",
              "      <th>Rating</th>\n",
              "      <th>Review Title</th>\n",
              "      <th>Reviews</th>\n",
              "    </tr>\n",
              "  </thead>\n",
              "  <tbody>\n",
              "    <tr>\n",
              "      <th>0</th>\n",
              "      <td>The Honest Guy</td>\n",
              "      <td>23 September 2019</td>\n",
              "      <td>5.0 out of 5 stars</td>\n",
              "      <td>An amazingly feature packed gadget, value for ...</td>\n",
              "      <td>I have been using a Mi Band 3 already. So this...</td>\n",
              "    </tr>\n",
              "    <tr>\n",
              "      <th>1</th>\n",
              "      <td>Sameer Patil</td>\n",
              "      <td>16 October 2019</td>\n",
              "      <td>4.0 out of 5 stars</td>\n",
              "      <td>DETAILED REVIEW with Comparison with Honor Ban...</td>\n",
              "      <td>NOTE:\\n@ Music control feature can be used to ...</td>\n",
              "    </tr>\n",
              "    <tr>\n",
              "      <th>2</th>\n",
              "      <td>amit ola</td>\n",
              "      <td>24 September 2019</td>\n",
              "      <td>5.0 out of 5 stars</td>\n",
              "      <td>Very good</td>\n",
              "      <td>Very good product 👌👌👌...</td>\n",
              "    </tr>\n",
              "    <tr>\n",
              "      <th>3</th>\n",
              "      <td>Sahana</td>\n",
              "      <td>26 September 2019</td>\n",
              "      <td>5.0 out of 5 stars</td>\n",
              "      <td>Superb</td>\n",
              "      <td>Superb</td>\n",
              "    </tr>\n",
              "    <tr>\n",
              "      <th>4</th>\n",
              "      <td>Sai Krishna Kondayagunta</td>\n",
              "      <td>22 September 2019</td>\n",
              "      <td>4.0 out of 5 stars</td>\n",
              "      <td>Good but not great. Returned it!</td>\n",
              "      <td>If you have a Mi band 3 don't upgrade! There i...</td>\n",
              "    </tr>\n",
              "    <tr>\n",
              "      <th>5</th>\n",
              "      <td>Pravin shukla</td>\n",
              "      <td>26 September 2019</td>\n",
              "      <td>5.0 out of 5 stars</td>\n",
              "      <td>Best band in this price</td>\n",
              "      <td>I love this band and best features</td>\n",
              "    </tr>\n",
              "    <tr>\n",
              "      <th>6</th>\n",
              "      <td>Deepanshu sharma</td>\n",
              "      <td>1 October 2019</td>\n",
              "      <td>1.0 out of 5 stars</td>\n",
              "      <td>Cheater band</td>\n",
              "      <td>I removed my band and put it on bed and then i...</td>\n",
              "    </tr>\n",
              "  </tbody>\n",
              "</table>\n",
              "</div>"
            ],
            "text/plain": [
              "              Customer Name        Review_Date              Rating  \\\n",
              "0            The Honest Guy  23 September 2019  5.0 out of 5 stars   \n",
              "1              Sameer Patil    16 October 2019  4.0 out of 5 stars   \n",
              "2                  amit ola  24 September 2019  5.0 out of 5 stars   \n",
              "3                    Sahana  26 September 2019  5.0 out of 5 stars   \n",
              "4  Sai Krishna Kondayagunta  22 September 2019  4.0 out of 5 stars   \n",
              "5             Pravin shukla  26 September 2019  5.0 out of 5 stars   \n",
              "6          Deepanshu sharma     1 October 2019  1.0 out of 5 stars   \n",
              "\n",
              "                                        Review Title  \\\n",
              "0  An amazingly feature packed gadget, value for ...   \n",
              "1  DETAILED REVIEW with Comparison with Honor Ban...   \n",
              "2                                          Very good   \n",
              "3                                             Superb   \n",
              "4                   Good but not great. Returned it!   \n",
              "5                            Best band in this price   \n",
              "6                                       Cheater band   \n",
              "\n",
              "                                             Reviews  \n",
              "0  I have been using a Mi Band 3 already. So this...  \n",
              "1  NOTE:\\n@ Music control feature can be used to ...  \n",
              "2                           Very good product 👌👌👌...  \n",
              "3                                             Superb  \n",
              "4  If you have a Mi band 3 don't upgrade! There i...  \n",
              "5                 I love this band and best features  \n",
              "6  I removed my band and put it on bed and then i...  "
            ]
          },
          "metadata": {
            "tags": []
          },
          "execution_count": 28
        }
      ]
    },
    {
      "cell_type": "code",
      "metadata": {
        "id": "4z9nrvNa8w--",
        "colab_type": "code",
        "colab": {},
        "outputId": "3ce4f2a0-7631-4b98-bb9e-4955f46714be"
      },
      "source": [
        "df.Reviews[6]"
      ],
      "execution_count": 0,
      "outputs": [
        {
          "output_type": "execute_result",
          "data": {
            "text/plain": [
              "'I removed my band and put it on bed and then i started measuring heart rate and band show me reading every time time it shows different reading no matter you wear it or not'"
            ]
          },
          "metadata": {
            "tags": []
          },
          "execution_count": 24
        }
      ]
    },
    {
      "cell_type": "markdown",
      "metadata": {
        "id": "wH75Et8K8w_A",
        "colab_type": "raw"
      },
      "source": [
        ""
      ]
    }
  ]
}