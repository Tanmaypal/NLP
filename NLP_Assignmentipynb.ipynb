{
  "nbformat": 4,
  "nbformat_minor": 0,
  "metadata": {
    "colab": {
      "name": "NLP Assignmentipynb",
      "provenance": [],
      "collapsed_sections": []
    },
    "kernelspec": {
      "name": "python3",
      "display_name": "Python 3"
    },
    "accelerator": "GPU"
  },
  "cells": [
    {
      "cell_type": "code",
      "metadata": {
        "id": "m0akMXkmA4Hm",
        "colab_type": "code",
        "outputId": "d9b57f03-fad7-4b05-ef53-f2c467306280",
        "colab": {
          "base_uri": "https://localhost:8080/",
          "height": 211
        }
      },
      "source": [
        "!pip install PyPDF2"
      ],
      "execution_count": 0,
      "outputs": [
        {
          "output_type": "stream",
          "text": [
            "Collecting PyPDF2\n",
            "\u001b[?25l  Downloading https://files.pythonhosted.org/packages/b4/01/68fcc0d43daf4c6bdbc6b33cc3f77bda531c86b174cac56ef0ffdb96faab/PyPDF2-1.26.0.tar.gz (77kB)\n",
            "\r\u001b[K     |████▎                           | 10kB 25.8MB/s eta 0:00:01\r\u001b[K     |████████▌                       | 20kB 6.5MB/s eta 0:00:01\r\u001b[K     |████████████▊                   | 30kB 9.3MB/s eta 0:00:01\r\u001b[K     |█████████████████               | 40kB 6.0MB/s eta 0:00:01\r\u001b[K     |█████████████████████▏          | 51kB 7.3MB/s eta 0:00:01\r\u001b[K     |█████████████████████████▍      | 61kB 8.6MB/s eta 0:00:01\r\u001b[K     |█████████████████████████████▋  | 71kB 9.7MB/s eta 0:00:01\r\u001b[K     |████████████████████████████████| 81kB 6.0MB/s \n",
            "\u001b[?25hBuilding wheels for collected packages: PyPDF2\n",
            "  Building wheel for PyPDF2 (setup.py) ... \u001b[?25l\u001b[?25hdone\n",
            "  Created wheel for PyPDF2: filename=PyPDF2-1.26.0-cp36-none-any.whl size=61085 sha256=6a31e28a9819eb36aa6c61c82f138af88cf558df0e534aa32c110e9e6114f6a5\n",
            "  Stored in directory: /root/.cache/pip/wheels/53/84/19/35bc977c8bf5f0c23a8a011aa958acd4da4bbd7a229315c1b7\n",
            "Successfully built PyPDF2\n",
            "Installing collected packages: PyPDF2\n",
            "Successfully installed PyPDF2-1.26.0\n"
          ],
          "name": "stdout"
        }
      ]
    },
    {
      "cell_type": "code",
      "metadata": {
        "id": "aQvDfZo5BLyN",
        "colab_type": "code",
        "colab": {}
      },
      "source": [
        "import PyPDF2"
      ],
      "execution_count": 0,
      "outputs": []
    },
    {
      "cell_type": "code",
      "metadata": {
        "id": "eAs8kKxLBUX4",
        "colab_type": "code",
        "colab": {}
      },
      "source": [
        "file=open('/content/vedanta.pdf','rb')"
      ],
      "execution_count": 0,
      "outputs": []
    },
    {
      "cell_type": "code",
      "metadata": {
        "id": "kuY4sICDCXvR",
        "colab_type": "code",
        "colab": {}
      },
      "source": [
        "##Use PyPDF2 to read the File\n",
        "Pdf_reader=PyPDF2.PdfFileReader(file)"
      ],
      "execution_count": 0,
      "outputs": []
    },
    {
      "cell_type": "code",
      "metadata": {
        "id": "Jp1gEZphDCnl",
        "colab_type": "code",
        "outputId": "2be35c38-3319-4503-eea0-4b6ee5e73f58",
        "colab": {
          "base_uri": "https://localhost:8080/",
          "height": 55
        }
      },
      "source": [
        "page_income_text=Pdf_reader.getPage(48)\n",
        "print(page_income_text)"
      ],
      "execution_count": 0,
      "outputs": [
        {
          "output_type": "stream",
          "text": [
            "{'/Contents': IndirectObject(12844, 0), '/Group': {'/CS': '/DeviceRGB', '/S': '/Transparency', '/Type': '/Group'}, '/MediaBox': [0, 0, 780, 540], '/Parent': IndirectObject(12669, 0), '/Resources': {'/ExtGState': {'/GS38': IndirectObject(12735, 0), '/GS5': IndirectObject(12718, 0), '/GS9': IndirectObject(12719, 0)}, '/Font': {'/F1': IndirectObject(2006, 0), '/F14': IndirectObject(2019, 0), '/F2': IndirectObject(2007, 0), '/F3': IndirectObject(2008, 0), '/F7': IndirectObject(2012, 0), '/F8': IndirectObject(2013, 0), '/F9': IndirectObject(2014, 0)}, '/Pattern': {'/P315': IndirectObject(12846, 0), '/P317': IndirectObject(12847, 0)}, '/ProcSet': ['/PDF', '/Text', '/ImageB', '/ImageC', '/ImageI'], '/XObject': {'/Meta313': IndirectObject(12845, 0)}}, '/StructParents': 60, '/Tabs': '/S', '/Type': '/Page'}\n"
          ],
          "name": "stdout"
        }
      ]
    },
    {
      "cell_type": "code",
      "metadata": {
        "id": "diCW61M1EutI",
        "colab_type": "code",
        "colab": {}
      },
      "source": [
        "pdf_writer=PyPDF2.PdfFileWriter()"
      ],
      "execution_count": 0,
      "outputs": []
    },
    {
      "cell_type": "code",
      "metadata": {
        "id": "-jfCpBT3FXyh",
        "colab_type": "code",
        "colab": {}
      },
      "source": [
        "pdf_writer.addPage(page_income_text)"
      ],
      "execution_count": 0,
      "outputs": []
    },
    {
      "cell_type": "code",
      "metadata": {
        "id": "7LViyduGF7MZ",
        "colab_type": "code",
        "colab": {}
      },
      "source": [
        "pdf_output=open('Income_statement','wb')"
      ],
      "execution_count": 0,
      "outputs": []
    },
    {
      "cell_type": "code",
      "metadata": {
        "id": "AOm0rjG4GJSG",
        "colab_type": "code",
        "colab": {}
      },
      "source": [
        "pdf_writer.write(pdf_output)"
      ],
      "execution_count": 0,
      "outputs": []
    },
    {
      "cell_type": "code",
      "metadata": {
        "id": "qCdpPnzAGo46",
        "colab_type": "code",
        "colab": {}
      },
      "source": [
        "income_statement=open('/content/Income_statement','rb')"
      ],
      "execution_count": 0,
      "outputs": []
    },
    {
      "cell_type": "code",
      "metadata": {
        "id": "KED4BM7-cy6J",
        "colab_type": "code",
        "colab": {}
      },
      "source": [
        "income_file=PyPDF2.PdfFileReader(income_statement)\n"
      ],
      "execution_count": 0,
      "outputs": []
    },
    {
      "cell_type": "code",
      "metadata": {
        "id": "wkzbCU1eHRIj",
        "colab_type": "code",
        "colab": {}
      },
      "source": [
        "text=income_file.getPage(0)\n",
        "type(text)"
      ],
      "execution_count": 0,
      "outputs": []
    },
    {
      "cell_type": "code",
      "metadata": {
        "id": "d5ClzPpdQbF-",
        "colab_type": "code",
        "outputId": "915db460-04af-4eba-8094-08b87dd5dd00",
        "colab": {
          "base_uri": "https://localhost:8080/",
          "height": 159
        }
      },
      "source": [
        "!sudo pip install tabula-py"
      ],
      "execution_count": 0,
      "outputs": [
        {
          "output_type": "stream",
          "text": [
            "Requirement already satisfied: tabula-py in /usr/local/lib/python3.6/dist-packages (1.4.3)\n",
            "Requirement already satisfied: distro in /usr/local/lib/python3.6/dist-packages (from tabula-py) (1.4.0)\n",
            "Requirement already satisfied: pandas in /usr/local/lib/python3.6/dist-packages (from tabula-py) (0.25.3)\n",
            "Requirement already satisfied: numpy in /usr/local/lib/python3.6/dist-packages (from tabula-py) (1.17.4)\n",
            "Requirement already satisfied: python-dateutil>=2.6.1 in /usr/local/lib/python3.6/dist-packages (from pandas->tabula-py) (2.6.1)\n",
            "Requirement already satisfied: pytz>=2017.2 in /usr/local/lib/python3.6/dist-packages (from pandas->tabula-py) (2018.9)\n",
            "Requirement already satisfied: six>=1.5 in /usr/local/lib/python3.6/dist-packages (from python-dateutil>=2.6.1->pandas->tabula-py) (1.12.0)\n"
          ],
          "name": "stdout"
        }
      ]
    },
    {
      "cell_type": "code",
      "metadata": {
        "id": "hiWRzz53QOjO",
        "colab_type": "code",
        "colab": {}
      },
      "source": [
        "import pandas as pd\n",
        "import tabula\n",
        "from tabula import wrapper\n",
        "file = \"Income_statement\"\n",
        "# path = 'vedanta.pdf'  + file\n",
        "df = wrapper.read_pdf(file)\n",
        "print(df)"
      ],
      "execution_count": 0,
      "outputs": []
    },
    {
      "cell_type": "code",
      "metadata": {
        "id": "0FNBG1jETLwU",
        "colab_type": "code",
        "colab": {}
      },
      "source": [
        "dataframe=pd.DataFrame(df)\n",
        "dataframe"
      ],
      "execution_count": 0,
      "outputs": []
    },
    {
      "cell_type": "code",
      "metadata": {
        "id": "a0s7_9wYVGIc",
        "colab_type": "code",
        "colab": {}
      },
      "source": [
        "page_income_text1=Pdf_reader.getPage(51).extractText()\n",
        "print(page_income_text)"
      ],
      "execution_count": 0,
      "outputs": []
    },
    {
      "cell_type": "code",
      "metadata": {
        "id": "CiUyWsc1VOw9",
        "colab_type": "code",
        "colab": {}
      },
      "source": [
        "pdf_writer.addPage(page_income_text1)"
      ],
      "execution_count": 0,
      "outputs": []
    }
  ]
}